{
 "cells": [
  {
   "cell_type": "markdown",
   "metadata": {
    "slideshow": {
     "slide_type": "slide"
    }
   },
   "source": [
    "# Regularized Regression\n",
    "\n",
    "**Yuanzhe(Roger) Li,  2020-01-21**"
   ]
  },
  {
   "cell_type": "code",
   "execution_count": 1,
   "metadata": {
    "slideshow": {
     "slide_type": "skip"
    }
   },
   "outputs": [],
   "source": [
    "import numpy as np\n",
    "import matplotlib.pyplot as plt\n",
    "from sklearn import linear_model, datasets\n",
    "from sklearn.model_selection import GridSearchCV"
   ]
  },
  {
   "cell_type": "markdown",
   "metadata": {
    "slideshow": {
     "slide_type": "slide"
    }
   },
   "source": [
    "## Outline\n",
    "- Recap of Linear Regression\n",
    "- Ridge Regression\n",
    "- LASSO\n",
    "- `glmnet`/`ElasticNet`"
   ]
  },
  {
   "cell_type": "markdown",
   "metadata": {
    "slideshow": {
     "slide_type": "slide"
    }
   },
   "source": [
    "## Linear regression recap\n",
    "\n",
    "Recall that in the context of linear regression $\\mathbf{y} = \\mathbf{X \\beta} + \\mathbf{\\epsilon}$ where $\\epsilon_i \\overset{\\text{iid}}{\\sim} \\mathcal{N}(0,\\sigma^2)$.\n",
    "\n",
    "Say $\\mathbf{y} \\in \\mathbb{R}^n$, the negative log-likelihood is \n",
    "$$L(\\mathbf{\\beta}|\\mathbf{X, y}) = \\dfrac{n}{2}\\log (2\\pi \\sigma^2) + \\dfrac{1}{2\\sigma^2}\\sum_{i=1}^n(y_i -\\mathbf{x}_i^T\\mathbf{\\beta})^2$$\n",
    "Notice that the **MLE** is also the least squares soltion \n",
    "$$\\mathbf{\\beta}^* = \\mathbf{\\beta}_{\\text{MLE}} = \\mathbf{\\beta}_{\\text{LS}} = \\underset{\\mathbf{\\beta}}{\\text{arg min}}\\sum_{i=1}^n(y_i -\\mathbf{x}_i^T\\mathbf{\\beta})^2$$ "
   ]
  },
  {
   "cell_type": "markdown",
   "metadata": {
    "slideshow": {
     "slide_type": "subslide"
    }
   },
   "source": [
    "## Linear regression recap (continued)\n",
    "In matrix form \n",
    "$$\\begin{align}\n",
    "\\mathbf{\\beta}^* & = \\underset{\\mathbf{\\beta}}{\\text{arg min}} [(\\mathbf{y - X\\beta})^T(\\mathbf{y - X\\beta})] \\\\ \n",
    "& = \\underset{\\mathbf{\\beta}}{\\text{arg min}}[\\mathbf{y}^T\\mathbf{y} -2\\mathbf{\\beta}^T\\mathbf{X}^T\\mathbf{y} + \\mathbf{\\beta}^T \\mathbf{X}^T\\mathbf{X \\beta}]  \\end{align}$$\n",
    "Denote $\\mathbf{e} = \\mathbf{y - X\\beta} $, and set \n",
    "\n",
    "$$\\dfrac{\\partial \\mathbf{e}^T \\mathbf{e}}{\\partial \\mathbf{\\beta}} = -2 \\mathbf{X}^T\\mathbf{y} + 2 \\mathbf{X}^T\\mathbf{X}\\mathbf{\\beta} = \\mathbf{0}$$\n",
    "\n",
    "we have \n",
    "$$\n",
    "\\begin{align}\n",
    "& \\mathbf{X}^T\\mathbf{X}\\mathbf{\\beta} = \\mathbf{X}^T\\mathbf{y} \\\\ \n",
    "\\Rightarrow \\quad & \\mathbf{\\beta}^* = (\\mathbf{X}^T\\mathbf{X})^{-1}\\mathbf{X}^T \\mathbf{y}\n",
    "\\end{align}\n",
    "$$"
   ]
  },
  {
   "cell_type": "markdown",
   "metadata": {
    "slideshow": {
     "slide_type": "slide"
    }
   },
   "source": [
    "## Penalized loss function\n",
    "The loss function of regularized regression takes the following form:\n",
    "\n",
    "$$Loss(\\mathbf{\\beta}) = \\mathbf{E}(\\mathbf{\\beta}) + \\frac{\\lambda}{2} \\cdot \\mathbf{P}(\\mathbf{\\beta})$$\n",
    "where \n",
    "\n",
    "- $\\mathbf{E}(\\mathbf{\\beta}) = \\dfrac{1}{2}\\sum_{i=1}^n(y_i -\\mathbf{x}_i^T\\mathbf{\\beta})^2$ is the sum-of-squares error,\n",
    "- $\\mathbf{P}$ is a penalty function that aims at regularizing the unknown parameters, and \n",
    "- $\\lambda$ is a hyperparameter that controls the tradeoff between the two components of the loss function."
   ]
  },
  {
   "cell_type": "markdown",
   "metadata": {
    "slideshow": {
     "slide_type": "slide"
    }
   },
   "source": [
    "## Ridge regression\n",
    "### Penalty\n",
    "One choice of $P_\\lambda$ that favors small regression coefficients is to penalize the sum of squares of the regression coefficients:\n",
    "\n",
    "$$P (\\mathbf{\\beta}) = \\sum_{j=1}^p\\beta_j^2$$\n",
    "\n",
    "and the whole loss function becomes\n",
    "\n",
    "$$Loss(\\mathbf{\\beta}) = \\frac{1}{2}\\sum_{i=1}^n(y_i -\\mathbf{x}_i^T\\mathbf{\\beta})^2 + \\frac{\\lambda}{2}\\sum_{j=1}^p\\beta_j^2$$\n",
    "\n",
    "which is known as ***ridge regression*** in statistics."
   ]
  },
  {
   "cell_type": "markdown",
   "metadata": {
    "slideshow": {
     "slide_type": "subslide"
    }
   },
   "source": [
    "## Ridge regression\n",
    "### Solution\n",
    "\n",
    "Since the loss function of ridge regression is differentiable, it has a simple closed-form solution\n",
    "\n",
    "$$\\mathbf{\\beta}_{\\text{ridge}} = (\\mathbf{X}^T\\mathbf{X} + \\lambda \\mathbf{I})^{-1}\\mathbf{X}^T \\mathbf{y}$$\n",
    "\n",
    "The solution is similar to the least squares solution with an extra diagonal matrix (i.e., $\\lambda \\mathbf{I}$) to be inverted, which improves the numeric stability of the system when $\\mathbf{X}^T\\mathbf{X}$ is close to being non-invertible \n",
    "\n",
    "*Question: what does that mean in practice?*\n",
    "\n",
    "\n"
   ]
  },
  {
   "cell_type": "markdown",
   "metadata": {
    "slideshow": {
     "slide_type": "subslide"
    }
   },
   "source": [
    "## Ridge regression\n",
    "### A simple example"
   ]
  },
  {
   "cell_type": "code",
   "execution_count": 2,
   "metadata": {
    "slideshow": {
     "slide_type": "fragment"
    }
   },
   "outputs": [],
   "source": [
    "# Generate data\n",
    "np.random.seed(2)\n",
    "x1 = np.random.normal(size=20)\n",
    "x2 = np.random.normal(loc = x1, scale=0.01, size=20)\n",
    "y = np.random.normal(loc = 3 + x1 + x2, size=20)\n",
    "design_mat = np.hstack((\n",
    "    np.array(x1).reshape(20,1), \n",
    "    np.array(x2).reshape(20,1)\n",
    "))"
   ]
  },
  {
   "cell_type": "code",
   "execution_count": 3,
   "metadata": {
    "slideshow": {
     "slide_type": "subslide"
    }
   },
   "outputs": [
    {
     "data": {
      "text/plain": [
       "array([ 14.51690508, -12.25821163])"
      ]
     },
     "execution_count": 3,
     "metadata": {},
     "output_type": "execute_result"
    }
   ],
   "source": [
    "# Train an OLS model\n",
    "reg_ols = linear_model.LinearRegression()\n",
    "reg_ols.fit(design_mat, y)\n",
    "reg_ols.coef_"
   ]
  },
  {
   "cell_type": "code",
   "execution_count": 4,
   "metadata": {
    "scrolled": true,
    "slideshow": {
     "slide_type": "fragment"
    }
   },
   "outputs": [
    {
     "data": {
      "text/plain": [
       "array([1.10585803, 1.08303544])"
      ]
     },
     "execution_count": 4,
     "metadata": {},
     "output_type": "execute_result"
    }
   ],
   "source": [
    "# Use ridge penalty\n",
    "reg_ridge = linear_model.Ridge(alpha = 1.0)\n",
    "reg_ridge.fit(design_mat, y)\n",
    "reg_ridge.coef_"
   ]
  },
  {
   "cell_type": "markdown",
   "metadata": {
    "slideshow": {
     "slide_type": "slide"
    }
   },
   "source": [
    "## Ridge regression\n",
    "### Bayesian justification for the ridge penalty\n",
    "\n",
    "- (**TL;DR**) Regularized least square with ridge penalty is equivalent to the maximum a posteriori (MAP) estimator (up to constant factor) in the Bayesian framework for linear regression with istropic zero-mean Gaussian priors on the parameters. "
   ]
  },
  {
   "cell_type": "markdown",
   "metadata": {
    "slideshow": {
     "slide_type": "subslide"
    }
   },
   "source": [
    "### Bayesian framework\n",
    "- Linear regression in the context of Bayesian inference, in which a prior distribution over the model's parameters $\\mathbf{\\beta}$ is assumed, and the goal is to find the posterior distribution of the $\\mathbf{\\beta}$.\n",
    "\n",
    "- Let $p(\\mathbf{y}|\\mathbf{\\beta})$ denote the distribution of $\\mathbf{y}$ given $\\mathbf{\\beta}$, and $p(\\mathbf{\\beta})$ the prior for $\\mathbf{\\beta}$, the posterior density is\n",
    "\n",
    "$$p(\\mathbf{\\beta}|\\mathbf{y}) = \\dfrac{p(\\mathbf{y}|\\mathbf{\\beta})p(\\mathbf{\\beta})}{p(\\mathbf{y})} \\propto p(\\mathbf{y}|\\mathbf{\\beta})p(\\mathbf{\\beta})$$\n",
    "\n",
    "or \n",
    "\n",
    "$$\\log p(\\mathbf{\\beta}|\\mathbf{y})  = \\log p(\\mathbf{y}|\\mathbf{\\beta}) + \\log p(\\mathbf{\\beta}) + \\text{constant}$$\n",
    "\n",
    "- From a Bayesian perspective, one can think of the penalty as arising from a formal prior distribution on the parameters."
   ]
  },
  {
   "cell_type": "markdown",
   "metadata": {
    "slideshow": {
     "slide_type": "subslide"
    }
   },
   "source": [
    "### Bayesian linear regression - setup\n",
    "\n",
    "Let's revisit the linear model $\\mathbf{y} = \\mathbf{X \\beta} + \\mathbf{\\epsilon}$ where $\\epsilon_i \\overset{\\text{iid}}{\\sim} \\mathcal{N}(0, \\tau^{-1})$ with a bayesian treatment as follows:\n",
    "\n",
    "- Prior $\\mathbf{\\beta} \\sim \\mathcal{N}(\\mathbf{m_0, S_0})$\n",
    "- Likelihood $p(\\mathbf{y}|\\mathbf{\\beta}) = \\sum_{i=1}^n \\mathcal{N}(y_i|\\mathbf{x_i}^T\\mathbf{\\beta}, \\tau^{-1})$\n",
    "- Posterior $\\mathbf{\\beta}|\\mathbf{y} \\sim \\mathcal{N}(\\mathbf{\\beta}|\\mathbf{m_n, S_n})$\n",
    "\n",
    "Notice that Gaussian is [self-conjugate](https://en.wikipedia.org/wiki/Conjugate_prior) for Gaussian likelihood function, we can use the fact that the posterior is also Gaussian to figure out the parameterization."
   ]
  },
  {
   "cell_type": "markdown",
   "metadata": {
    "slideshow": {
     "slide_type": "subslide"
    }
   },
   "source": [
    "### Bayesian linear regression - posterior\n",
    "\n",
    "- For the posterior distribution, we have \n",
    "\n",
    "$$\n",
    "\\begin{align}\n",
    "\\mathbf{m_n} &= \\mathbf{S_n(S_0^{-1}\\mathbf{m_0} + \\tau\\mathbf{X}^T\\mathbf{y}})\\\\\n",
    "\\mathbf{S_n}^{-1} &= \\mathbf{S_0}^{-1} + \\tau \\mathbf{X}^T\\mathbf{X}\n",
    "\\end{align}\n",
    "$$\n",
    "\n",
    "- Assume the prior is a zero-mean isotropic Gaussian, i.e., $\\mathbf{\\beta} \\sim \\mathcal{N}(\\mathbf{0}, \\alpha^{-1}\\mathbf{I})$. The parameterization of the posterior then becomes\n",
    "\n",
    "$$\n",
    "\\begin{align}\n",
    "\\mathbf{m_n} &= \\tau \\mathbf{S_n X}^T\\mathbf{y}\\\\\n",
    "\\mathbf{S_n}^{-1} &= \\alpha \\mathbf{I} + \\tau \\mathbf{X}^T\\mathbf{X}\n",
    "\\end{align}\n",
    "$$"
   ]
  },
  {
   "cell_type": "markdown",
   "metadata": {
    "slideshow": {
     "slide_type": "subslide"
    }
   },
   "source": [
    "### Connection between bayesian linear regression and ridge regression\n",
    "\n",
    "- Since the posterior is Gaussian, we have \n",
    "\n",
    "$$\\mathbf{\\beta}_{\\text{MAP}} = \\mathbf{m_n} = (\\mathbf{X}^T\\mathbf{X} + \\dfrac{\\alpha}{\\tau}\\mathbf{I})^{-1}\\mathbf{X}^T\\mathbf{y}$$ \n",
    "\n",
    "which is the same as the ridge solution $(\\mathbf{X}^T\\mathbf{X} + \\lambda \\mathbf{I})^{-1}\\mathbf{X}^T \\mathbf{y}$ with $\\lambda = \\alpha / \\tau$.\n",
    "\n",
    "\n",
    "- Alternatively, if we compare the objective fuctions. Maximization of the log of the posterior probability below w.r.t $\\mathbf{\\beta}$\n",
    "\n",
    "$$\n",
    "\\begin{align}\n",
    "\\log p(\\mathbf{\\beta}|\\mathbf{y})  &= \\log p(\\mathbf{y}|\\mathbf{\\beta}) + \\log p(\\mathbf{\\beta}) + \\text{constant}\\\\\n",
    "&= - \\dfrac{\\tau}{2}\\sum_{i=1}^{n}(y_i -\\mathbf{x}_i^T\\mathbf{\\beta})^2 - \\dfrac{\\alpha}{2}\\mathbf{\\beta}^T\n",
    "\\mathbf{\\beta} + \\text{constant}\n",
    "\\end{align}\n",
    "$$\n",
    "\n",
    "again, is equivalent to the minimization of the regularized (ridge penalty) least squares with $\\lambda = \\alpha / \\tau$.\n",
    "\n"
   ]
  },
  {
   "cell_type": "markdown",
   "metadata": {
    "slideshow": {
     "slide_type": "subslide"
    }
   },
   "source": [
    "### Bayesian versus frequentist view\n",
    "- Notice that when the prior is infinitely broad, i.e., $\\mathbf{S_0}=\\alpha^{-1}\\mathbf{I}$ and $\\alpha \\rightarrow 0$, $\\mathbf{\\beta}_{\\text{MAP}}$ is the same as the MLE estimator.\n",
    "\n",
    "$$\\lim_{\\alpha \\rightarrow 0}\\mathbf{\\beta}_{\\text{MAP}} = \\lim_{\\alpha \\rightarrow 0}[(\\mathbf{X}^T\\mathbf{X} + \\dfrac{\\alpha}{\\tau}\\mathbf{I})^{-1}\\mathbf{X}^T\\mathbf{y}] = (\\mathbf{X}^T\\mathbf{X})^{-1}\\mathbf{X}^T\\mathbf{y} = \\mathbf{\\beta}_{\\text{MLE}}$$\n",
    "\n",
    "- Despite of the connection between  $\\mathbf{\\beta}_{\\text{MAP}}$ and $\\mathbf{\\beta}_{\\text{ridge}}$ or $\\mathbf{\\beta}_{\\text{MLE}}$ , the similarity between Bayesian and Frequentist breaks down in other inferential respects."
   ]
  },
  {
   "cell_type": "markdown",
   "metadata": {
    "slideshow": {
     "slide_type": "slide"
    }
   },
   "source": [
    "### Choosing $\\lambda$ in ridge regression\n",
    "- Common model fitness measures for OLS such as [Mallows's $C_p$](https://en.wikipedia.org/wiki/Mallows%27s_Cp), [AIC](https://en.wikipedia.org/wiki/Akaike_information_criterion), and [BIC](https://en.wikipedia.org/wiki/Bayesian_information_criterion) also work for ridge regression.\n",
    "- In practice, we can use k-fold cross validation to select $\\lambda$ with the CV performance."
   ]
  },
  {
   "cell_type": "markdown",
   "metadata": {
    "slideshow": {
     "slide_type": "subslide"
    }
   },
   "source": [
    "### Example of using cross validation to choose $\\lambda$ for ridge regression\n",
    "\n",
    "- Let's use simulated dataset with `effective_rank=5`."
   ]
  },
  {
   "cell_type": "code",
   "execution_count": 5,
   "metadata": {
    "slideshow": {
     "slide_type": "fragment"
    }
   },
   "outputs": [],
   "source": [
    "from sklearn.datasets import make_regression\n",
    "X, y = make_regression(n_samples=1000, n_features=500, effective_rank = 5,\n",
    "                          n_informative = 400, noise = 1.5, random_state=10)"
   ]
  },
  {
   "cell_type": "code",
   "execution_count": 6,
   "metadata": {
    "slideshow": {
     "slide_type": "skip"
    }
   },
   "outputs": [],
   "source": [
    "# Define plotting functions\n",
    "def plot_ridge_cv(reg_cv, dpi=100):\n",
    "    \"\"\"Plot mean and sd of cv scores from a GridSearchCV for ridge regression\"\"\"\n",
    "    param = list(reg_cv.param_grid.keys())[0]\n",
    "    grid = reg_cv.param_grid[param]\n",
    "    score, std = reg_cv.cv_results_['mean_test_score'], reg_cv.cv_results_['std_test_score']\n",
    "    best_param, best_score = reg_cv.best_params_['alpha'], reg_cv.best_score_\n",
    "    fig, ax=plt.subplots(dpi=dpi)\n",
    "    ax.errorbar(grid, -score, yerr=std)\n",
    "    ax.set_xscale('log')\n",
    "    ax.set_xlabel(r'$\\lambda$')\n",
    "    ax.set_ylabel(\"Root mean-squared error\")\n",
    "    title = r'Best $\\lambda$' + f': {round(best_param,5)}, best ' + r'$\\overline{rmse}$' + f': {round(-best_score, 3)}'\n",
    "    ax.set_title(title)\n",
    "    ax.plot()"
   ]
  },
  {
   "cell_type": "code",
   "execution_count": 7,
   "metadata": {
    "slideshow": {
     "slide_type": "fragment"
    }
   },
   "outputs": [],
   "source": [
    "reg_ridge = linear_model.Ridge()\n",
    "params = {'alpha': np.exp(np.arange(-20,10,2))}\n",
    "reg_cv = GridSearchCV(reg_ridge, params, scoring = 'neg_root_mean_squared_error', cv=10)"
   ]
  },
  {
   "cell_type": "code",
   "execution_count": 8,
   "metadata": {
    "slideshow": {
     "slide_type": "subslide"
    }
   },
   "outputs": [
    {
     "data": {
      "image/png": "[encoded data removed]",
      "text/plain": [
       "<Figure size 600x400 with 1 Axes>"
      ]
     },
     "metadata": {
      "needs_background": "light"
     },
     "output_type": "display_data"
    }
   ],
   "source": [
    "reg_cv.fit(X, y)\n",
    "plot_ridge_cv(reg_cv)"
   ]
  },
  {
   "cell_type": "markdown",
   "metadata": {
    "slideshow": {
     "slide_type": "slide"
    }
   },
   "source": [
    "### Remarks on ridge regression\n",
    "- Ridge penalty tends to push the parameters of correlated features together, as OLS might allow one to be wildly positive and the other negative.\n",
    "- The shrinkage in model parameters brought by ridge regression reduces noice and identify true signals in model effects.\n",
    "- However, one major limitation of ridge regression is that it retains all of parameters non-zero, while a smaller subset of strong features are usually preferred for interpretability reasons."
   ]
  },
  {
   "cell_type": "markdown",
   "metadata": {
    "slideshow": {
     "slide_type": "slide"
    }
   },
   "source": [
    "## LASSO\n",
    "\n",
    "- In the frame of regularized least squares, LASSO uses $\\ell_1$ penalty instead of $\\ell_2$ penalty in ridge regression, i.e.,\n",
    "\n",
    "$$Loss(\\mathbf{\\beta}) = \\frac{1}{2}\\sum_{i=1}^n(y_i -\\mathbf{x}_i^T\\mathbf{\\beta})^2 + \\frac{\\lambda}{2}\\sum_{j=1}^p|\\beta_j|$$\n",
    "\n",
    "- LASSO stands for least absolute shrinkage and selectin operator.\n",
    "    - *Shrinkage*: Similar to ridge regression, lasso penalizes large parameters and shrinks estimates towards zero\n",
    "    - *Selection*: Unlike ridge, lasso actually pushes parameter estiamtes to zero and produces sparse solutions.\n"
   ]
  },
  {
   "cell_type": "markdown",
   "metadata": {
    "slideshow": {
     "slide_type": "slide"
    }
   },
   "source": [
    "### Why does LASSO generate sparse solutions?\n",
    "- Geometric view\n",
    "![Why LASSO can lead to sparsity?](./assets/images/bishop_fig_34_lasso.png)\n",
    "\n",
    "- Ridge:  $\\min_{\\mathbf{\\beta}}||\\mathbf{y}-\\mathbf{X\\beta}||_2^2 \\quad \\text{s.t.} ||\\mathbf{\\beta}||_2 \\leq t$\n",
    "- LASSO:  $\\min_{\\mathbf{\\beta}}||\\mathbf{y}-\\mathbf{X\\beta}||_2^2 \\quad \\text{s.t.} ||\\mathbf{\\beta}||_1 \\leq t$"
   ]
  },
  {
   "cell_type": "markdown",
   "metadata": {
    "slideshow": {
     "slide_type": "slide"
    }
   },
   "source": [
    "### Solving LASSO\n",
    "- Unlike ridge regression, lasso is not strictly convex when $\\mathbf{X}^T\\mathbf{X}$ is not full rank, thus it may not have a unique solution. \n",
    "\n",
    "- There are two popular algorithms (as currently inplemented in `sklearn`) to solve LASSO models.\n",
    "    - Coordinate descent (CD)\n",
    "    - Least-angle regression (LARS)"
   ]
  },
  {
   "cell_type": "markdown",
   "metadata": {
    "slideshow": {
     "slide_type": "slide"
    }
   },
   "source": [
    "#### Coordinate descent\n",
    "\n",
    "\n",
    "- Idea: minimization of a multivariate function $f: \\mathbb{R}^n \\rightarrow \\mathbb{R}$ can be repeatedly solving univariate optimization along one direction.\n",
    "    - Start with $\\mathbf{x}^0 = (x_1^0, ..., x_n^0)$,\n",
    "    - at round $k+1$, define $\\mathbf{x}^{k+1}$ from $\\mathbf{x}^k$ by iteratively solving the single-variable optimization problem: $$x_i^{k+1} = \\text{arg}\\min_z f(x_1^{k+1},..., x_{i-1}^{k+1}, z, x_{i+1}^{k}, ..., x_{n}^k), \\quad \\text{for }i=1,...,n$$\n",
    "    - Repeat until convergence."
   ]
  },
  {
   "cell_type": "markdown",
   "metadata": {
    "slideshow": {
     "slide_type": "subslide"
    }
   },
   "source": [
    "#### When does coordinate-wise minimization work?\n",
    "\n",
    "- $f: \\mathbb{R}^n \\rightarrow \\mathbb{R}$ convex and differentiable? YES.\n",
    "- $f: \\mathbb{R}^n \\rightarrow \\mathbb{R}$ convex but not differentiable? NO.\n",
    "- However, if $f(\\mathbf{x}) = g(\\mathbf{x}) + \\sum_i^n h_i(x_i)$ with $g$ convex and differentiable, and each $h_i$ convex, the answer is YES again.\n",
    "- Notice LASSO meets the above requirement with $g(\\mathbf{\\beta}) = \\dfrac{1}{2}||\\mathbf{y} - \\mathbf{X\\beta}||^2$ and $h_i(\\beta_i) = \\lambda|\\beta_i|$ for $i = 1,...,p$."
   ]
  },
  {
   "cell_type": "markdown",
   "metadata": {
    "slideshow": {
     "slide_type": "subslide"
    }
   },
   "source": [
    "#### CD scheme for LASSO\n",
    "- We repeatedly cycle through the model parameters, and in each step, optimize only a single parameter ($\\beta_j$)\n",
    "- To update $\\beta_j$, we solve the following univariate minimization problem\n",
    "$$\\min_{\\beta_j\\in \\mathbb{R}} \\frac{1}{2}||\\mathbf{y} - \\sum_{i: i\\neq j}\\mathbf{X}_{:i}\\beta_i - \\mathbf{X}_{:j}\\beta_j||^2 + \\lambda |\\beta_j| + \\lambda \\sum_{i:i\\neq j}|\\beta_i|$$\n",
    "where $\\mathbf{X}_{:i}$ is the $i$-th column of the design matrix $\\mathbf{X} \\in \\mathbb{R}^{n \\times d}$.\n",
    "- The solution to the above problem turns out to be \n",
    "$$\\beta_j \\leftarrow \\psi_{\\text{st}}( \\dfrac{\\mathbf{X}_{:j}^T(\\mathbf{y}- \\sum_{i:i\\neq j}\\mathbf{X}_{:i}\\beta_i)}{||\\mathbf{X}_{:j}||^2}; \\dfrac{\\lambda}{||\\mathbf{X}_{:j}||^2})$$\n",
    "where $\\psi_{\\text{st}}$ is the *soft thresholding* operator.\n",
    "- More on $\\psi_{\\text{st}}$ and how to solve the univariate lasso (it's non-differentiable) later, but we cycle through $\\beta_j$ for $j = 1,..., d$ and repeat until convergence."
   ]
  },
  {
   "cell_type": "markdown",
   "metadata": {
    "slideshow": {
     "slide_type": "subslide"
    }
   },
   "source": [
    "#### Subgradients and optimality\n",
    "- For $f: \\mathbb{R}^n \\rightarrow \\mathbb{R}$, its ***subgradient*** at $x$ is defined as \n",
    "$$\\partial f(x) = \\{s\\in \\mathbb{R}^n| f(z)\\geq f(x) + s^T(z-x), \\forall z \\in \\mathbf{dom} f\\}$$\n",
    "- If $f$ is convex and differentiable, than its gradient at $x$ is a subgradient. If $f$ is not differentiable, it can have multiple subgradients.\n",
    "- **Theorem**: for any convex function $f(\\mathbf{x})$, $\\mathbf{x}^*$ is an optimal solution $\\iff$ $\\mathbf{0} \\in \\partial f(\\mathbf{x}^*)$, where $\\partial f(\\mathbf{x})$ is the set of all subgradients at $\\mathbf{x}$.\n",
    "    - Use $f(\\beta) = |\\beta|$ as an example, it's subgradient $s$ is \n",
    "    $$\\begin{cases}\n",
    "      s = \\text{sign}(\\beta), & \\beta \\neq 0 \\\\\n",
    "      s \\in [-1, 1], & \\beta = 0\n",
    "    \\end{cases}$$\n",
    "    - Notice the optimal solution $\\beta^* = 0 \\in [-1, 1]$."
   ]
  },
  {
   "cell_type": "markdown",
   "metadata": {
    "slideshow": {
     "slide_type": "subslide"
    }
   },
   "source": [
    "#### Univariate LASSO\n",
    "- Now let's look at the univariate LASSO. WLOG, we consider $\\min_{\\beta \\in \\mathbb{R}} \\frac{1}{2}||\\mathbf{y}-\\beta \\mathbf{z}||^2+\\lambda |\\beta|$, which is convex but not differentiable due to the addition of the $\\ell_1$ regularization term.\n",
    "    - its subgradient $g = \\mathbf{z}^T(\\beta \\mathbf{z}-\\mathbf{y}) + \\lambda \\cdot s$ where $s$ is the subgradient of $|\\beta|$\n",
    "    - The optimality happens when $0 \\in g \\iff \\mathbf{z}^T\\mathbf{y} - \\beta ||\\mathbf{z}||^2 \\in \\lambda s$, let's take this case by case\n",
    "        - If $\\beta = 0$, we have  $\\mathbf{z}^T\\mathbf{y} \\in [-\\lambda, \\lambda]$, i.e., $|\\mathbf{z}^T\\mathbf{y}| \\leq \\lambda$\n",
    "        - If $\\beta > 0$, we have $\\beta = \\dfrac{\\mathbf{z}^T\\mathbf{y}}{||\\mathbf{z}||^2} - \\dfrac{\\lambda}{||\\mathbf{z}||^2} > 0$, i.e., $\\mathbf{z}^T\\mathbf{y} > \\lambda$\n",
    "        - Finally, if $\\beta < 0$, we have $\\beta = \\dfrac{\\mathbf{z}^T\\mathbf{y}}{||\\mathbf{z}||^2} + \\dfrac{\\lambda}{||\\mathbf{z}||^2} < 0$, i.e., $\\mathbf{z}^T\\mathbf{y} < -\\lambda$"
   ]
  },
  {
   "cell_type": "markdown",
   "metadata": {
    "slideshow": {
     "slide_type": "subslide"
    }
   },
   "source": [
    "#### Univariate LASSO (continued)\n",
    "- So we have verified that in univariate case, the LASSO estimator is $\\hat{\\beta} = \\psi_{\\text{st}}(\\dfrac{\\mathbf{z}^Ty}{||\\mathbf{z}||^2}; \\dfrac{\\lambda}{||\\mathbf{z}||^2})$, where the ***soft thresholding*** operator is defined as follows:\n",
    "\n",
    "$$ \\psi_{\\text{st}}(x; \\lambda)= \\begin{cases}\n",
    "  x - \\lambda, & \\text{if } x \\geq \\lambda, \\\\\n",
    "  x + \\lambda, & \\text{if } x \\leq -\\lambda \\\\\n",
    "  0, &         \\text{else}\n",
    "\\end{cases}$$\n",
    "\n",
    "- Hence in the multivariate setting, coordinate update is given by\n",
    "$$\\beta_j \\leftarrow \\psi_{\\text{st}}( \\dfrac{\\mathbf{X}_{:j}^T(\\mathbf{y}- \\sum_{i:i\\neq j}\\mathbf{X}_{:i}\\beta_i)}{||\\mathbf{X}_{:j}||^2}; \\dfrac{\\lambda}{||\\mathbf{X}_{:j}||^2})$$\n",
    "as previously shown."
   ]
  },
  {
   "cell_type": "markdown",
   "metadata": {
    "slideshow": {
     "slide_type": "slide"
    }
   },
   "source": [
    "#### LARS and LASSO path\n",
    "- LARS is the first efficient algorithm for LASSO is (in my mind) more intuitively related to variable selection property of LASSO.\n",
    "\n",
    "- Basic steps of LARS are as follows:\n",
    "    - Start with all parameters $\\beta$ equal to zero ($\\lambda_{\\infty}$)\n",
    "    - Lower $\\lambda$ to allow the parameter $\\beta_j$ to the predictor $\\mathbf{x}_j$ that is most correlated with $\\mathbf{y}$ into the model.\n",
    "    - Increase $\\beta_j$ in the direction of the sign of corr$(\\mathbf{x}_j, \\mathbf{y})$ and take residuals $\\mathbf{r} = \\mathbf{y}-\\hat{\\mathbf{y}}$ along the way. Stop when another predictor $\\mathbf{x}_k$ has as much correlation with $\\mathbf{r}$ as $\\mathbf{x}_j$.\n",
    "    - Include $\\mathbf{x}_k$ and increase ($\\beta_j, \\beta_k$) in their joint least squares direction (i.e., projection of $r$ onto $[\\beta_j, \\beta_k]^T$) until the next predictor $\\mathbf{x}_m$ reaches the necessary level of correlation with $\\mathbf{r}$, all with $\\lambda$ lowered along the way.\n",
    "    - Repeat until $\\lambda$ hits a predetermined threshold or small enough for all the variables to be included."
   ]
  },
  {
   "cell_type": "code",
   "execution_count": 14,
   "metadata": {
    "slideshow": {
     "slide_type": "skip"
    }
   },
   "outputs": [],
   "source": [
    "def run_lars_example(dpi=100):\n",
    "    \"\"\"Run LARS example from sklearn\n",
    "    https://scikit-learn.org/stable/auto_examples/linear_model/plot_lasso_lars.html\n",
    "    \"\"\"\n",
    "    X, y = datasets.load_diabetes(return_X_y=True)\n",
    "    _, _, coefs = linear_model.lars_path(X, y, method='lasso', verbose=True)\n",
    "\n",
    "    xx = np.sum(np.abs(coefs.T), axis=1)\n",
    "    xx /= xx[-1]\n",
    "    fig, ax=plt.subplots(dpi=dpi)\n",
    "    ax.plot(xx, coefs.T)\n",
    "    ymin, ymax = plt.ylim()\n",
    "    ax.vlines(xx, ymin, ymax, linestyle='dashed')\n",
    "    ax.set_xlabel('|coef| / max|coef|')\n",
    "    ax.set_ylabel('Coefficients')\n",
    "    ax.set_title('LASSO Path')\n",
    "    ax.autoscale(enable=False, tight=True)"
   ]
  },
  {
   "cell_type": "markdown",
   "metadata": {
    "slideshow": {
     "slide_type": "subslide"
    }
   },
   "source": [
    "#### LARS example\n",
    "- Let's look at an example of using LARS to compute the LASSO path along the regularization parameter."
   ]
  },
  {
   "cell_type": "code",
   "execution_count": 15,
   "metadata": {
    "slideshow": {
     "slide_type": "fragment"
    }
   },
   "outputs": [
    {
     "name": "stdout",
     "output_type": "stream",
     "text": [
      "."
     ]
    },
    {
     "data": {
      "image/png": "[encoded data removed]",
      "text/plain": [
       "<Figure size 600x400 with 1 Axes>"
      ]
     },
     "metadata": {
      "needs_background": "light"
     },
     "output_type": "display_data"
    }
   ],
   "source": [
    "run_lars_example()"
   ]
  },
  {
   "cell_type": "markdown",
   "metadata": {
    "slideshow": {
     "slide_type": "subslide"
    }
   },
   "source": [
    "#### Remarks on LARS\n",
    "- Notice that when solving LASSO using LARS, we always proceed in the direction such that every active predictor is equally correlated with the residual $\\mathbf{r}$, which is consistent with the KKT conditions of LASSO (not covered here).\n",
    "\n",
    "- Nevertheless, coordinate descent and variant has become more popular due to its simplicity and flexibility."
   ]
  },
  {
   "cell_type": "markdown",
   "metadata": {
    "slideshow": {
     "slide_type": "slide"
    }
   },
   "source": [
    "### Bayesian interpretation of LASSO"
   ]
  },
  {
   "cell_type": "markdown",
   "metadata": {
    "slideshow": {
     "slide_type": "slide"
    }
   },
   "source": [
    "### Remarks on LASSO"
   ]
  },
  {
   "cell_type": "markdown",
   "metadata": {
    "slideshow": {
     "slide_type": "slide"
    }
   },
   "source": [
    "## ElasticNet"
   ]
  }
 ],
 "metadata": {
  "celltoolbar": "Slideshow",
  "file_extension": ".py",
  "kernelspec": {
   "display_name": "Python 3",
   "language": "python",
   "name": "python3"
  },
  "language_info": {
   "codemirror_mode": {
    "name": "ipython",
    "version": 3
   },
   "file_extension": ".py",
   "mimetype": "text/x-python",
   "name": "python",
   "nbconvert_exporter": "python",
   "pygments_lexer": "ipython3",
   "version": "3.6.8"
  },
  "mimetype": "text/x-python",
  "name": "python",
  "npconvert_exporter": "python",
  "pygments_lexer": "ipython3",
  "version": 3
 },
 "nbformat": 4,
 "nbformat_minor": 2
}
