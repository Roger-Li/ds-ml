{
 "cells": [
  {
   "cell_type": "markdown",
   "metadata": {
    "slideshow": {
     "slide_type": "slide"
    }
   },
   "source": [
    "# Regularization in Machine Learning Models\n",
    "\n",
    "**Yuanzhe(Roger) Li,  2020-01-07**"
   ]
  },
  {
   "cell_type": "code",
   "execution_count": 1,
   "metadata": {
    "slideshow": {
     "slide_type": "skip"
    }
   },
   "outputs": [],
   "source": [
    "import numpy as np\n",
    "import matplotlib.pyplot as plt\n",
    "from sklearn import linear_model\n",
    "from sklearn.model_selection import GridSearchCV"
   ]
  },
  {
   "cell_type": "markdown",
   "metadata": {
    "slideshow": {
     "slide_type": "slide"
    }
   },
   "source": [
    "# Outline\n",
    "- Regularized Regression\n",
    "    - Ridge Regression\n",
    "    - LASSO\n",
    "    - `glmnet`/`ElasticNet`\n",
    "- (Tentative header) Structured Sparsity"
   ]
  },
  {
   "cell_type": "markdown",
   "metadata": {
    "slideshow": {
     "slide_type": "slide"
    }
   },
   "source": [
    "# Regularized Regression\n",
    "## Linear regression recap\n",
    "\n",
    "Recall that in the context of linear regression $\\mathbf{y} = \\mathbf{X \\beta} + \\mathbf{\\epsilon}$ where $\\epsilon_i \\overset{\\text{iid}}{\\sim} \\mathcal{N}(0,\\sigma^2)$.\n",
    "\n",
    "Say $\\mathbf{y} \\in \\mathbb{R}^n$, the negative log-likelihood is \n",
    "$$L(\\mathbf{\\beta}|\\mathbf{X, y}) = \\dfrac{n}{2}\\log (2\\pi \\sigma^2) + \\dfrac{1}{2\\sigma^2}\\sum_{i=1}^n(y_i -\\mathbf{x}_i^T\\mathbf{\\beta})^2$$\n",
    "Notice that the **MLE** is also the least squares soltion \n",
    "$$\\mathbf{\\beta}^* = \\mathbf{\\beta}_{\\text{MLE}} = \\mathbf{\\beta}_{\\text{LS}} = \\underset{\\mathbf{\\beta}}{\\text{arg min}}\\sum_{i=1}^n(y_i -\\mathbf{x}_i^T\\mathbf{\\beta})^2$$ "
   ]
  },
  {
   "cell_type": "markdown",
   "metadata": {
    "slideshow": {
     "slide_type": "subslide"
    }
   },
   "source": [
    "## Linear regression recap (continued)\n",
    "In matrix form \n",
    "$$\\begin{align}\n",
    "\\mathbf{\\beta}^* & = \\underset{\\mathbf{\\beta}}{\\text{arg min}} [(\\mathbf{y - X\\beta})^T(\\mathbf{y - X\\beta})] \\\\ \n",
    "& = \\underset{\\mathbf{\\beta}}{\\text{arg min}}[\\mathbf{y}^T\\mathbf{y} -2\\mathbf{\\beta}^T\\mathbf{X}^T\\mathbf{y} + \\mathbf{\\beta}^T \\mathbf{X}^T\\mathbf{X \\beta}]  \\end{align}$$\n",
    "Denote $\\mathbf{e} = \\mathbf{y - X\\beta} $, and set \n",
    "\n",
    "$$\\dfrac{\\partial \\mathbf{e}^T \\mathbf{e}}{\\partial \\mathbf{\\beta}} = -2 \\mathbf{X}^T\\mathbf{y} + 2 \\mathbf{X}^T\\mathbf{X}\\mathbf{\\beta} = \\mathbf{0}$$\n",
    "\n",
    "we have \n",
    "$$\n",
    "\\begin{align}\n",
    "& \\mathbf{X}^T\\mathbf{X}\\mathbf{\\beta} = \\mathbf{X}^T\\mathbf{y} \\\\ \n",
    "\\Rightarrow \\quad & \\mathbf{\\beta}^* = (\\mathbf{X}^T\\mathbf{X})^{-1}\\mathbf{X}^T \\mathbf{y}\n",
    "\\end{align}\n",
    "$$"
   ]
  },
  {
   "cell_type": "markdown",
   "metadata": {
    "slideshow": {
     "slide_type": "slide"
    }
   },
   "source": [
    "## Penalized loss function\n",
    "The loss function of regularized regression takes the following form:\n",
    "\n",
    "$$Loss(\\mathbf{\\beta}) = \\mathbf{E}(\\mathbf{\\beta}) + \\frac{\\lambda}{2} \\cdot \\mathbf{P}(\\mathbf{\\beta})$$\n",
    "where \n",
    "\n",
    "- $\\mathbf{E}(\\mathbf{\\beta}) = \\dfrac{1}{2}\\sum_{i=1}^n(y_i -\\mathbf{x}_i^T\\mathbf{\\beta})^2$ is the sum-of-squares error,\n",
    "- $\\mathbf{P}$ is a penalty function that aims at regularizing the unknown parameters, and \n",
    "- $\\lambda$ is a hyperparameter that controls the tradeoff between the two components of the loss function."
   ]
  },
  {
   "cell_type": "markdown",
   "metadata": {
    "slideshow": {
     "slide_type": "slide"
    }
   },
   "source": [
    "## Ridge regression\n",
    "### Penalty\n",
    "One choice of $P_\\lambda$ that favors small regression coefficients is to penalize the sum of squares of the regression coefficients:\n",
    "\n",
    "$$P (\\mathbf{\\beta}) = \\sum_{j=1}^p\\beta_j^2$$\n",
    "\n",
    "and the whole loss function becomes\n",
    "\n",
    "$$Loss(\\mathbf{\\beta}) = \\frac{1}{2}\\sum_{i=1}^n(y_i -\\mathbf{x}_i^T\\mathbf{\\beta})^2 + \\frac{\\lambda}{2}\\sum_{j=1}^p\\beta_j^2$$\n",
    "\n",
    "which is known as ***ridge regression*** in statistics."
   ]
  },
  {
   "cell_type": "markdown",
   "metadata": {
    "slideshow": {
     "slide_type": "subslide"
    }
   },
   "source": [
    "## Ridge regression\n",
    "### Solution\n",
    "\n",
    "Since the loss function of ridge regression is differentiable, it has a simple closed-form solution\n",
    "\n",
    "$$\\mathbf{\\beta}_{\\text{ridge}} = (\\mathbf{X}^T\\mathbf{X} + \\lambda \\mathbf{I})^{-1}\\mathbf{X}^T \\mathbf{y}$$\n",
    "\n",
    "The solution is similar to the least squares solution with an extra diagonal matrix (i.e., $\\lambda \\mathbf{I}$) to be inverted, which improves the numeric stability of the system when $\\mathbf{X}^T\\mathbf{X}$ is close to being non-invertible \n",
    "\n",
    "*Question: what does that mean in practice?*\n",
    "\n",
    "\n"
   ]
  },
  {
   "cell_type": "markdown",
   "metadata": {
    "slideshow": {
     "slide_type": "subslide"
    }
   },
   "source": [
    "## Ridge regression\n",
    "### A simple example"
   ]
  },
  {
   "cell_type": "code",
   "execution_count": 2,
   "metadata": {
    "slideshow": {
     "slide_type": "fragment"
    }
   },
   "outputs": [],
   "source": [
    "# Generate data\n",
    "np.random.seed(2)\n",
    "x1 = np.random.normal(size=20)\n",
    "x2 = np.random.normal(loc = x1, scale=0.01, size=20)\n",
    "y = np.random.normal(loc = 3 + x1 + x2, size=20)\n",
    "design_mat = np.hstack((\n",
    "    np.array(x1).reshape(20,1), \n",
    "    np.array(x2).reshape(20,1)\n",
    "))"
   ]
  },
  {
   "cell_type": "code",
   "execution_count": 3,
   "metadata": {
    "slideshow": {
     "slide_type": "subslide"
    }
   },
   "outputs": [
    {
     "data": {
      "text/plain": [
       "array([ 14.51690508, -12.25821163])"
      ]
     },
     "execution_count": 3,
     "metadata": {},
     "output_type": "execute_result"
    }
   ],
   "source": [
    "# Train an OLS model\n",
    "reg_ols = linear_model.LinearRegression()\n",
    "reg_ols.fit(design_mat, y)\n",
    "reg_ols.coef_"
   ]
  },
  {
   "cell_type": "code",
   "execution_count": 4,
   "metadata": {
    "scrolled": true,
    "slideshow": {
     "slide_type": "fragment"
    }
   },
   "outputs": [
    {
     "data": {
      "text/plain": [
       "array([1.10585803, 1.08303544])"
      ]
     },
     "execution_count": 4,
     "metadata": {},
     "output_type": "execute_result"
    }
   ],
   "source": [
    "# Use ridge penalty\n",
    "reg_ridge = linear_model.Ridge(alpha = 1.0)\n",
    "reg_ridge.fit(design_mat, y)\n",
    "reg_ridge.coef_"
   ]
  },
  {
   "cell_type": "markdown",
   "metadata": {
    "slideshow": {
     "slide_type": "slide"
    }
   },
   "source": [
    "## Ridge regression\n",
    "### Bayesian justification for the ridge penalty\n",
    "\n",
    "- (**TL;DR**) Regularized least square with ridge penalty is equivalent to the maximum a posteriori (MAP) estimator (up to constant factor) in the Bayesian framework for linear regression with istropic zero-mean Gaussian priors on the parameters. "
   ]
  },
  {
   "cell_type": "markdown",
   "metadata": {
    "slideshow": {
     "slide_type": "subslide"
    }
   },
   "source": [
    "### Bayesian framework\n",
    "- Linear regression in the context of Bayesian inference, in which a prior distribution over the model's parameters $\\mathbf{\\beta}$ is assumed, and the goal is to find the posterior distribution of the $\\mathbf{\\beta}$.\n",
    "\n",
    "- Let $p(\\mathbf{y}|\\mathbf{\\beta})$ denote the distribution of $\\mathbf{y}$ given $\\mathbf{\\beta}$, and $p(\\mathbf{\\beta})$ the prior for $\\mathbf{\\beta}$, the posterior density is\n",
    "\n",
    "$$p(\\mathbf{\\beta}|\\mathbf{y}) = \\dfrac{p(\\mathbf{y}|\\mathbf{\\beta})p(\\mathbf{\\beta})}{p(\\mathbf{y})} \\propto p(\\mathbf{y}|\\mathbf{\\beta})p(\\mathbf{\\beta})$$\n",
    "\n",
    "or \n",
    "\n",
    "$$\\log p(\\mathbf{\\beta}|\\mathbf{y})  = \\log p(\\mathbf{y}|\\mathbf{\\beta}) + \\log p(\\mathbf{\\beta}) + \\text{constant}$$\n",
    "\n",
    "- From a Bayesian perspective, one can think of the penalty as arising from a formal prior distribution on the parameters."
   ]
  },
  {
   "cell_type": "markdown",
   "metadata": {
    "slideshow": {
     "slide_type": "subslide"
    }
   },
   "source": [
    "### Bayesian linear regression - setup\n",
    "\n",
    "Let's revisit the linear model $\\mathbf{y} = \\mathbf{X \\beta} + \\mathbf{\\epsilon}$ where $\\epsilon_i \\overset{\\text{iid}}{\\sim} \\mathcal{N}(0, \\tau^{-1})$ with a bayesian treatment as follows:\n",
    "\n",
    "- Prior $\\mathbf{\\beta} \\sim \\mathcal{N}(\\mathbf{m_0, S_0})$\n",
    "- Likelihood $p(\\mathbf{y}|\\mathbf{\\beta}) = \\sum_{i=1}^n \\mathcal{N}(y_i|\\mathbf{x_i}^T\\mathbf{\\beta}, \\tau^{-1})$\n",
    "- Posterior $\\mathbf{\\beta}|\\mathbf{y} \\sim \\mathcal{N}(\\mathbf{\\beta}|\\mathbf{m_n, S_n})$\n",
    "\n",
    "Notice that Gaussian is [self-conjugate](https://en.wikipedia.org/wiki/Conjugate_prior) for Gaussian likelihood function, we can use the fact that the posterior is also Gaussian to figure out the parameterization."
   ]
  },
  {
   "cell_type": "markdown",
   "metadata": {
    "slideshow": {
     "slide_type": "subslide"
    }
   },
   "source": [
    "### Bayesian linear regression - posterior\n",
    "\n",
    "- For the posterior distribution, we have \n",
    "\n",
    "$$\n",
    "\\begin{align}\n",
    "\\mathbf{m_n} &= \\mathbf{S_n(S_0^{-1}\\mathbf{m_0} + \\tau\\mathbf{X}^T\\mathbf{y}})\\\\\n",
    "\\mathbf{S_n}^{-1} &= \\mathbf{S_0}^{-1} + \\tau \\mathbf{X}^T\\mathbf{X}\n",
    "\\end{align}\n",
    "$$\n",
    "\n",
    "- Assume the prior is a zero-mean isotropic Gaussian, i.e., $\\mathbf{\\beta} \\sim \\mathcal{N}(\\mathbf{0}, \\alpha^{-1}\\mathbf{I})$. The parameterization of the posterior then becomes\n",
    "\n",
    "$$\n",
    "\\begin{align}\n",
    "\\mathbf{m_n} &= \\tau \\mathbf{S_n X}^T\\mathbf{y}\\\\\n",
    "\\mathbf{S_n}^{-1} &= \\alpha \\mathbf{I} + \\tau \\mathbf{X}^T\\mathbf{X}\n",
    "\\end{align}\n",
    "$$"
   ]
  },
  {
   "cell_type": "markdown",
   "metadata": {
    "slideshow": {
     "slide_type": "subslide"
    }
   },
   "source": [
    "### Connection between bayesian linear regression and ridge regression\n",
    "\n",
    "- Since the posterior is Gaussian, we have \n",
    "\n",
    "$$\\mathbf{\\beta}_{\\text{MAP}} = \\mathbf{m_n} = (\\mathbf{X}^T\\mathbf{X} + \\dfrac{\\alpha}{\\tau}\\mathbf{I})^{-1}\\mathbf{X}^T\\mathbf{y}$$ \n",
    "\n",
    "which is the same as the ridge solution $(\\mathbf{X}^T\\mathbf{X} + \\lambda \\mathbf{I})^{-1}\\mathbf{X}^T \\mathbf{y}$ with $\\lambda = \\alpha / \\tau$.\n",
    "\n",
    "\n",
    "- Alternatively, if we compare the objective fuctions. Maximization of the log of the posterior probability below w.r.t $\\mathbf{\\beta}$\n",
    "\n",
    "$$\n",
    "\\begin{align}\n",
    "\\log p(\\mathbf{\\beta}|\\mathbf{y})  &= \\log p(\\mathbf{y}|\\mathbf{\\beta}) + \\log p(\\mathbf{\\beta}) + \\text{constant}\\\\\n",
    "&= - \\dfrac{\\tau}{2}\\sum_{i=1}^{n}(y_i -\\mathbf{x}_i^T\\mathbf{\\beta})^2 - \\dfrac{\\alpha}{2}\\mathbf{\\beta}^T\n",
    "\\mathbf{\\beta} + \\text{constant}\n",
    "\\end{align}\n",
    "$$\n",
    "\n",
    "again, is equivalent to the minimization of the regularized (ridge penalty) least squares with $\\lambda = \\alpha / \\tau$.\n",
    "\n"
   ]
  },
  {
   "cell_type": "markdown",
   "metadata": {
    "slideshow": {
     "slide_type": "subslide"
    }
   },
   "source": [
    "### Bayesian versus frequentist view\n",
    "- Notice that when the prior is infinitely broad, i.e., $\\mathbf{S_0}=\\alpha^{-1}\\mathbf{I}$ and $\\alpha \\rightarrow 0$, $\\mathbf{\\beta}_{\\text{MAP}}$ is the same as the MLE estimator.\n",
    "\n",
    "$$\\lim_{\\alpha \\rightarrow 0}\\mathbf{\\beta}_{\\text{MAP}} = \\lim_{\\alpha \\rightarrow 0}[(\\mathbf{X}^T\\mathbf{X} + \\dfrac{\\alpha}{\\tau}\\mathbf{I})^{-1}\\mathbf{X}^T\\mathbf{y}] = (\\mathbf{X}^T\\mathbf{X})^{-1}\\mathbf{X}^T\\mathbf{y} = \\mathbf{\\beta}_{\\text{MLE}}$$\n",
    "\n",
    "- Despite of the connection between  $\\mathbf{\\beta}_{\\text{MAP}}$ and $\\mathbf{\\beta}_{\\text{ridge}}$ or $\\mathbf{\\beta}_{\\text{MLE}}$ , the similarity between Bayesian and Frequentist breaks down in other inferential respects."
   ]
  },
  {
   "cell_type": "markdown",
   "metadata": {
    "slideshow": {
     "slide_type": "slide"
    }
   },
   "source": [
    "### Choosing $\\lambda$ in ridge regression\n",
    "- Common model fitness measures for OLS such as [Mallows's $C_p$](https://en.wikipedia.org/wiki/Mallows%27s_Cp), [AIC](https://en.wikipedia.org/wiki/Akaike_information_criterion), and [BIC](https://en.wikipedia.org/wiki/Bayesian_information_criterion) also work for ridge regression.\n",
    "- In practice, we can use k-fold cross validation to select $\\lambda$ with the CV performance."
   ]
  },
  {
   "cell_type": "markdown",
   "metadata": {
    "slideshow": {
     "slide_type": "subslide"
    }
   },
   "source": [
    "### Example of using cross validation to choose $\\lambda$ for ridge regression\n",
    "\n",
    "- Let's use simulated data with 15 features with `effective_rank = 5`"
   ]
  },
  {
   "cell_type": "code",
   "execution_count": 5,
   "metadata": {
    "slideshow": {
     "slide_type": "fragment"
    }
   },
   "outputs": [],
   "source": [
    "from sklearn.datasets import make_regression\n",
    "X, y, true_coef = make_regression(n_samples=1000, n_features=20, effective_rank = 3, coef=True, \n",
    "                          n_informative = 15, noise = 0.5, random_state=123)"
   ]
  },
  {
   "cell_type": "code",
   "execution_count": 6,
   "metadata": {
    "slideshow": {
     "slide_type": "skip"
    }
   },
   "outputs": [],
   "source": [
    "def plot_ridge_cv(reg_cv, dpi=100):\n",
    "    \"\"\"Plot mean and sd of cv scores from a GridSearchCV for ridge regression\"\"\"\n",
    "    param = list(reg_cv.param_grid.keys())[0]\n",
    "    grid = np.log(reg_cv.param_grid[param])\n",
    "    score, std = reg_cv.cv_results_['mean_test_score'], reg_cv.cv_results_['std_test_score']\n",
    "    best_param, best_score = reg_cv.best_params_['alpha'], reg_cv.best_score_\n",
    "    fig, ax=plt.subplots(dpi=dpi)\n",
    "    ax.errorbar(grid, -score, yerr=std)\n",
    "    ax.set_xlabel(r'$\\log(\\lambda)$')\n",
    "    ax.set_ylabel(\"Root mean-squared error\")\n",
    "    ax.set_xticks(np.arange(-20,10,2))\n",
    "    title = r'Best $\\log(\\lambda)$' + f': {round(np.log(best_param),3)}, best ' + r'$\\overline{rmse}$' + f': {round(-best_score, 3)}'\n",
    "    ax.set_title(title)\n",
    "    ax.plot()"
   ]
  },
  {
   "cell_type": "code",
   "execution_count": 7,
   "metadata": {
    "slideshow": {
     "slide_type": "fragment"
    }
   },
   "outputs": [],
   "source": [
    "np.random.seed(20)\n",
    "reg_ridge = linear_model.Ridge()\n",
    "params = {\n",
    "    'alpha': np.exp(np.arange(-20,6,2))\n",
    "}\n",
    "reg_cv = GridSearchCV(reg_ridge, params, scoring = 'neg_root_mean_squared_error', cv=10)"
   ]
  },
  {
   "cell_type": "code",
   "execution_count": 8,
   "metadata": {
    "slideshow": {
     "slide_type": "subslide"
    }
   },
   "outputs": [
    {
     "data": {
      "image/png": "[encoded data removed]",
      "text/plain": [
       "<Figure size 600x400 with 1 Axes>"
      ]
     },
     "metadata": {
      "needs_background": "light"
     },
     "output_type": "display_data"
    }
   ],
   "source": [
    "reg_cv.fit(X, y)\n",
    "plot_ridge_cv(reg_cv)"
   ]
  },
  {
   "cell_type": "markdown",
   "metadata": {
    "slideshow": {
     "slide_type": "skip"
    }
   },
   "source": [
    "- Huber regression is a robust regression method that uses the [Huber loss](https://en.wikipedia.org/wiki/Huber_loss), which applies a linear loss (as opposed to quadratic loss) to samples that are classified as outliers (i.e., absolute error $> \\epsilon$)\n",
    "- In scikit-learn, the [`HuberRegressor`](https://scikit-learn.org/stable/modules/generated/sklearn.linear_model.HuberRegressor.html#sklearn.linear_model.HuberRegressor) minimizes the following loss function:\n",
    "\n",
    "$$\\min_{\\omega, \\sigma} \\sum_{i=1}^n(\\sigma + H_\\epsilon(\\frac{X_i\\omega - y_i}{\\sigma})\\sigma) + \\alpha ||\\omega||_2^2$$\n",
    "\n",
    "where $H_\\epsilon(z) = z^2 \\text{ if } |z| < \\epsilon$, and $H_\\epsilon(z) = \\epsilon|z| - \\epsilon^2 \\text{ otherwise}$."
   ]
  },
  {
   "cell_type": "code",
   "execution_count": null,
   "metadata": {},
   "outputs": [],
   "source": []
  },
  {
   "cell_type": "code",
   "execution_count": null,
   "metadata": {
    "slideshow": {
     "slide_type": "skip"
    }
   },
   "outputs": [],
   "source": []
  },
  {
   "cell_type": "code",
   "execution_count": null,
   "metadata": {},
   "outputs": [],
   "source": []
  },
  {
   "cell_type": "code",
   "execution_count": null,
   "metadata": {
    "slideshow": {
     "slide_type": "notes"
    }
   },
   "outputs": [],
   "source": []
  }
 ],
 "metadata": {
  "celltoolbar": "Slideshow",
  "file_extension": ".py",
  "kernelspec": {
   "display_name": "Python 3",
   "language": "python",
   "name": "python3"
  },
  "language_info": {
   "codemirror_mode": {
    "name": "ipython",
    "version": 3
   },
   "file_extension": ".py",
   "mimetype": "text/x-python",
   "name": "python",
   "nbconvert_exporter": "python",
   "pygments_lexer": "ipython3",
   "version": "3.6.8"
  },
  "mimetype": "text/x-python",
  "name": "python",
  "npconvert_exporter": "python",
  "pygments_lexer": "ipython3",
  "version": 3
 },
 "nbformat": 4,
 "nbformat_minor": 2
}
