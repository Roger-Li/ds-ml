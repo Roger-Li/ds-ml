{
 "cells": [
  {
   "cell_type": "markdown",
   "execution_count": null,
   "metadata": {},
   "outputs": [],
   "source": [
    "# Regularization For Machine Learning, and Bayesian Statistics\n",
    "\n",
    "**Yuanzhe(Roger) Li, 2020-01-07**"
   ]
  },
  {
   "cell_type": "markdown",
   "execution_count": null,
   "metadata": {},
   "outputs": [],
   "source": [
    "## 1.0 Regularized regression\n",
    "\n",
    "$$\\min (\\mathbf{y} - \\mathbf{\\beta} \\mathbf{X})^2 + ||\\mathbf{\\beta}||_2$$"
   ]
  },
  {
   "cell_type": "code",
   "execution_count": 1,
   "metadata": {},
   "outputs": [
    {
     "data": {
      "text/plain": "0.9979467923453923"
     },
     "execution_count": 1,
     "metadata": {},
     "output_type": "execute_result"
    }
   ],
   "source": [
    "from sklearn.linear_model import TheilSenRegressor\n",
    "from sklearn.datasets import make_regression\n",
    "X, y = make_regression(n_samples=200, n_features=3, noise=4.0, random_state=0)\n",
    "reg = TheilSenRegressor(random_state=0).fit(X, y)\n",
    "reg.score(X, y)"
   ]
  },
  {
   "cell_type": "markdown",
   "execution_count": null,
   "metadata": {},
   "outputs": [],
   "source": [
    "- Huber regression is a robust regression method that uses the [Huber loss](https://en.wikipedia.org/wiki/Huber_loss), which applies a linear loss (as opposed to quadratic loss) to samples that are classified as outliers (i.e., absolute error $> \\epsilon$)\n",
    "- In scikit-learn, the [`HuberRegressor`](https://scikit-learn.org/stable/modules/generated/sklearn.linear_model.HuberRegressor.html#sklearn.linear_model.HuberRegressor) minimizes the following loss function:\n",
    "\n",
    "$$\\min_{\\omega, \\sigma} \\sum_{i=1}^n(\\sigma + H_\\epsilon(\\frac{X_i\\omega - y_i}{\\sigma})\\sigma) + \\alpha ||\\omega||_2^2$$\n",
    "\n",
    "where $H_\\epsilon(z) = z^2 \\text{ if } |z| < \\epsilon$, and $H_\\epsilon(z) = \\epsilon|z| - \\epsilon^2 \\text{ otherwise}$."
   ]
  },
  {
   "cell_type": "code",
   "execution_count": null,
   "metadata": {},
   "outputs": [],
   "source": []
  }
 ],
 "metadata": {
  "file_extension": ".py",
  "kernelspec": {
   "display_name": "Python 3",
   "language": "python",
   "name": "python3"
  },
  "language_info": {
   "codemirror_mode": {
    "name": "ipython",
    "version": 3
   },
   "file_extension": ".py",
   "mimetype": "text/x-python",
   "name": "python",
   "nbconvert_exporter": "python",
   "pygments_lexer": "ipython3",
   "version": "3.6.8"
  },
  "mimetype": "text/x-python",
  "name": "python",
  "npconvert_exporter": "python",
  "pygments_lexer": "ipython3",
  "version": 3
 },
 "nbformat": 4,
 "nbformat_minor": 2
}